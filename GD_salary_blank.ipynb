{
 "cells": [
  {
   "cell_type": "markdown",
   "metadata": {},
   "source": [
    "<table border=\"0\" cellpadding=\"0\" cellspacing=\"0\" style=\"margin-left: auto; margin-right: auto; font-size:0px; position: absolute; top:0; right:0\">\n",
    "<tr>\n",
    "<td width=\"4\" height=\"4\" colspan=\"3\" bgcolor=\"#FFFFFF\">&nbsp;</td>\n",
    "<td width=\"4\" height=\"4\" colspan=\"1\" bgcolor=\"#FFFEFF\">&nbsp;</td>\n",
    "<td width=\"4\" height=\"4\" colspan=\"7\" bgcolor=\"#002F55\">&nbsp;</td>\n",
    "<td width=\"4\" height=\"4\" colspan=\"4\" bgcolor=\"#FFFFFF\">&nbsp;</td>\n",
    "</tr>\n",
    "<tr>\n",
    "<td width=\"4\" height=\"4\" colspan=\"2\" bgcolor=\"#FFFFFF\">&nbsp;</td>\n",
    "<td width=\"4\" height=\"4\" colspan=\"1\" bgcolor=\"#FCFFFF\">&nbsp;</td>\n",
    "<td width=\"4\" height=\"4\" colspan=\"8\" bgcolor=\"#002F55\">&nbsp;</td>\n",
    "<td width=\"4\" height=\"4\" colspan=\"1\" bgcolor=\"#002F57\">&nbsp;</td>\n",
    "<td width=\"4\" height=\"4\" colspan=\"1\" bgcolor=\"#0A2D49\">&nbsp;</td>\n",
    "<td width=\"4\" height=\"4\" colspan=\"2\" bgcolor=\"#FFFFFF\">&nbsp;</td>\n",
    "</tr>\n",
    "<tr>\n",
    "<td width=\"4\" height=\"4\" colspan=\"1\" bgcolor=\"#FFFFFF\">&nbsp;</td>\n",
    "<td width=\"4\" height=\"4\" colspan=\"1\" bgcolor=\"#002F53\">&nbsp;</td>\n",
    "<td width=\"4\" height=\"4\" colspan=\"1\" bgcolor=\"#FFFFFF\">&nbsp;</td>\n",
    "<td width=\"4\" height=\"4\" colspan=\"2\" bgcolor=\"#002F55\">&nbsp;</td>\n",
    "<td width=\"4\" height=\"4\" colspan=\"1\" bgcolor=\"#FFFFFF\">&nbsp;</td>\n",
    "<td width=\"4\" height=\"4\" colspan=\"3\" bgcolor=\"#002F55\">&nbsp;</td>\n",
    "<td width=\"4\" height=\"4\" colspan=\"1\" bgcolor=\"#FEFFFF\">&nbsp;</td>\n",
    "<td width=\"4\" height=\"4\" colspan=\"2\" bgcolor=\"#002F55\">&nbsp;</td>\n",
    "<td width=\"4\" height=\"4\" colspan=\"1\" bgcolor=\"#FFFFFF\">&nbsp;</td>\n",
    "<td width=\"4\" height=\"4\" colspan=\"1\" bgcolor=\"#738A9A\">&nbsp;</td>\n",
    "<td width=\"4\" height=\"4\" colspan=\"1\" bgcolor=\"#FFFFFF\">&nbsp;</td>\n",
    "</tr>\n",
    "<tr>\n",
    "<td width=\"4\" height=\"4\" colspan=\"1\" bgcolor=\"#FFFFFD\">&nbsp;</td>\n",
    "<td width=\"4\" height=\"4\" colspan=\"1\" bgcolor=\"#002F55\">&nbsp;</td>\n",
    "<td width=\"4\" height=\"4\" colspan=\"1\" bgcolor=\"#FFFFFF\">&nbsp;</td>\n",
    "<td width=\"4\" height=\"4\" colspan=\"9\" bgcolor=\"#002F55\">&nbsp;</td>\n",
    "<td width=\"4\" height=\"4\" colspan=\"1\" bgcolor=\"#FFFFFF\">&nbsp;</td>\n",
    "<td width=\"4\" height=\"4\" colspan=\"1\" bgcolor=\"#002F55\">&nbsp;</td>\n",
    "<td width=\"4\" height=\"4\" colspan=\"1\" bgcolor=\"#FEFFFF\">&nbsp;</td>\n",
    "</tr>\n",
    "<tr>\n",
    "<td width=\"4\" height=\"4\" colspan=\"2\" bgcolor=\"#002F55\">&nbsp;</td>\n",
    "<td width=\"4\" height=\"4\" colspan=\"1\" bgcolor=\"#FFFFFF\">&nbsp;</td>\n",
    "<td width=\"4\" height=\"4\" colspan=\"3\" bgcolor=\"#002F55\">&nbsp;</td>\n",
    "<td width=\"4\" height=\"4\" colspan=\"1\" bgcolor=\"#002F53\">&nbsp;</td>\n",
    "<td width=\"4\" height=\"4\" colspan=\"1\" bgcolor=\"#002F55\">&nbsp;</td>\n",
    "<td width=\"4\" height=\"4\" colspan=\"1\" bgcolor=\"#013157\">&nbsp;</td>\n",
    "<td width=\"4\" height=\"4\" colspan=\"3\" bgcolor=\"#002F55\">&nbsp;</td>\n",
    "<td width=\"4\" height=\"4\" colspan=\"1\" bgcolor=\"#FFFFFF\">&nbsp;</td>\n",
    "<td width=\"4\" height=\"4\" colspan=\"2\" bgcolor=\"#002F55\">&nbsp;</td>\n",
    "</tr>\n",
    "<tr>\n",
    "<td width=\"4\" height=\"4\" colspan=\"2\" bgcolor=\"#002F55\">&nbsp;</td>\n",
    "<td width=\"4\" height=\"4\" colspan=\"2\" bgcolor=\"#FFFFFF\">&nbsp;</td>\n",
    "<td width=\"4\" height=\"4\" colspan=\"1\" bgcolor=\"#002F55\">&nbsp;</td>\n",
    "<td width=\"4\" height=\"4\" colspan=\"1\" bgcolor=\"#0A2C45\">&nbsp;</td>\n",
    "<td width=\"4\" height=\"4\" colspan=\"1\" bgcolor=\"#002F55\">&nbsp;</td>\n",
    "<td width=\"4\" height=\"4\" colspan=\"1\" bgcolor=\"#FEFFFF\">&nbsp;</td>\n",
    "<td width=\"4\" height=\"4\" colspan=\"1\" bgcolor=\"#002F55\">&nbsp;</td>\n",
    "<td width=\"4\" height=\"4\" colspan=\"1\" bgcolor=\"#385366\">&nbsp;</td>\n",
    "<td width=\"4\" height=\"4\" colspan=\"1\" bgcolor=\"#002F55\">&nbsp;</td>\n",
    "<td width=\"4\" height=\"4\" colspan=\"1\" bgcolor=\"#F8FFFF\">&nbsp;</td>\n",
    "<td width=\"4\" height=\"4\" colspan=\"1\" bgcolor=\"#FFFFFF\">&nbsp;</td>\n",
    "<td width=\"4\" height=\"4\" colspan=\"2\" bgcolor=\"#002F55\">&nbsp;</td>\n",
    "</tr>\n",
    "<tr>\n",
    "<td width=\"4\" height=\"4\" colspan=\"3\" bgcolor=\"#002F55\">&nbsp;</td>\n",
    "<td width=\"4\" height=\"4\" colspan=\"1\" bgcolor=\"#FFFFFF\">&nbsp;</td>\n",
    "<td width=\"4\" height=\"4\" colspan=\"1\" bgcolor=\"#012F53\">&nbsp;</td>\n",
    "<td width=\"4\" height=\"4\" colspan=\"2\" bgcolor=\"#002F55\">&nbsp;</td>\n",
    "<td width=\"4\" height=\"4\" colspan=\"1\" bgcolor=\"#FFFFFF\">&nbsp;</td>\n",
    "<td width=\"4\" height=\"4\" colspan=\"1\" bgcolor=\"#002F57\">&nbsp;</td>\n",
    "<td width=\"4\" height=\"4\" colspan=\"2\" bgcolor=\"#002F55\">&nbsp;</td>\n",
    "<td width=\"4\" height=\"4\" colspan=\"1\" bgcolor=\"#FFFFFF\">&nbsp;</td>\n",
    "<td width=\"4\" height=\"4\" colspan=\"3\" bgcolor=\"#002F55\">&nbsp;</td>\n",
    "</tr>\n",
    "<tr>\n",
    "<td width=\"4\" height=\"4\" colspan=\"3\" bgcolor=\"#002F55\">&nbsp;</td>\n",
    "<td width=\"4\" height=\"4\" colspan=\"1\" bgcolor=\"#003055\">&nbsp;</td>\n",
    "<td width=\"4\" height=\"4\" colspan=\"1\" bgcolor=\"#FFFFFF\">&nbsp;</td>\n",
    "<td width=\"4\" height=\"4\" colspan=\"2\" bgcolor=\"#002F55\">&nbsp;</td>\n",
    "<td width=\"4\" height=\"4\" colspan=\"1\" bgcolor=\"#FFFFFF\">&nbsp;</td>\n",
    "<td width=\"4\" height=\"4\" colspan=\"2\" bgcolor=\"#002F55\">&nbsp;</td>\n",
    "<td width=\"4\" height=\"4\" colspan=\"1\" bgcolor=\"#FFFFFF\">&nbsp;</td>\n",
    "<td width=\"4\" height=\"4\" colspan=\"1\" bgcolor=\"#002F57\">&nbsp;</td>\n",
    "<td width=\"4\" height=\"4\" colspan=\"3\" bgcolor=\"#002F55\">&nbsp;</td>\n",
    "</tr>\n",
    "<tr>\n",
    "<td width=\"4\" height=\"4\" colspan=\"5\" bgcolor=\"#002F55\">&nbsp;</td>\n",
    "<td width=\"4\" height=\"4\" colspan=\"1\" bgcolor=\"#FFFFFF\">&nbsp;</td>\n",
    "<td width=\"4\" height=\"4\" colspan=\"1\" bgcolor=\"#002F55\">&nbsp;</td>\n",
    "<td width=\"4\" height=\"4\" colspan=\"1\" bgcolor=\"#FFFFFF\">&nbsp;</td>\n",
    "<td width=\"4\" height=\"4\" colspan=\"1\" bgcolor=\"#002F55\">&nbsp;</td>\n",
    "<td width=\"4\" height=\"4\" colspan=\"1\" bgcolor=\"#FFFFFF\">&nbsp;</td>\n",
    "<td width=\"4\" height=\"4\" colspan=\"5\" bgcolor=\"#002F55\">&nbsp;</td>\n",
    "</tr>\n",
    "<tr>\n",
    "<td width=\"4\" height=\"4\" colspan=\"2\" bgcolor=\"#002F55\">&nbsp;</td>\n",
    "<td width=\"4\" height=\"4\" colspan=\"1\" bgcolor=\"#FFFFFF\">&nbsp;</td>\n",
    "<td width=\"4\" height=\"4\" colspan=\"3\" bgcolor=\"#002F55\">&nbsp;</td>\n",
    "<td width=\"4\" height=\"4\" colspan=\"1\" bgcolor=\"#FFFFFF\">&nbsp;</td>\n",
    "<td width=\"4\" height=\"4\" colspan=\"1\" bgcolor=\"#002F55\">&nbsp;</td>\n",
    "<td width=\"4\" height=\"4\" colspan=\"1\" bgcolor=\"#FFFFFF\">&nbsp;</td>\n",
    "<td width=\"4\" height=\"4\" colspan=\"1\" bgcolor=\"#002F53\">&nbsp;</td>\n",
    "<td width=\"4\" height=\"4\" colspan=\"2\" bgcolor=\"#002F55\">&nbsp;</td>\n",
    "<td width=\"4\" height=\"4\" colspan=\"1\" bgcolor=\"#FFFFFF\">&nbsp;</td>\n",
    "<td width=\"4\" height=\"4\" colspan=\"2\" bgcolor=\"#002F55\">&nbsp;</td>\n",
    "</tr>\n",
    "<tr>\n",
    "<td width=\"4\" height=\"4\" colspan=\"7\" bgcolor=\"#002F55\">&nbsp;</td>\n",
    "<td width=\"4\" height=\"4\" colspan=\"1\" bgcolor=\"#FFFFFF\">&nbsp;</td>\n",
    "<td width=\"4\" height=\"4\" colspan=\"7\" bgcolor=\"#002F55\">&nbsp;</td>\n",
    "</tr>\n",
    "<tr>\n",
    "<td width=\"4\" height=\"4\" colspan=\"1\" bgcolor=\"#FFFFFF\">&nbsp;</td>\n",
    "<td width=\"4\" height=\"4\" colspan=\"4\" bgcolor=\"#002F55\">&nbsp;</td>\n",
    "<td width=\"4\" height=\"4\" colspan=\"2\" bgcolor=\"#FFFFFF\">&nbsp;</td>\n",
    "<td width=\"4\" height=\"4\" colspan=\"1\" bgcolor=\"#002F55\">&nbsp;</td>\n",
    "<td width=\"4\" height=\"4\" colspan=\"2\" bgcolor=\"#FFFFFF\">&nbsp;</td>\n",
    "<td width=\"4\" height=\"4\" colspan=\"4\" bgcolor=\"#002F55\">&nbsp;</td>\n",
    "<td width=\"4\" height=\"4\" colspan=\"1\" bgcolor=\"#FFFFFD\">&nbsp;</td>\n",
    "</tr>\n",
    "<tr>\n",
    "<td width=\"4\" height=\"4\" colspan=\"1\" bgcolor=\"#FFFFFF\">&nbsp;</td>\n",
    "<td width=\"4\" height=\"4\" colspan=\"1\" bgcolor=\"#002F55\">&nbsp;</td>\n",
    "<td width=\"4\" height=\"4\" colspan=\"3\" bgcolor=\"#FFFFFF\">&nbsp;</td>\n",
    "<td width=\"4\" height=\"4\" colspan=\"1\" bgcolor=\"#0A2C47\">&nbsp;</td>\n",
    "<td width=\"4\" height=\"4\" colspan=\"3\" bgcolor=\"#002F55\">&nbsp;</td>\n",
    "<td width=\"4\" height=\"4\" colspan=\"4\" bgcolor=\"#FFFFFF\">&nbsp;</td>\n",
    "<td width=\"4\" height=\"4\" colspan=\"1\" bgcolor=\"#002F55\">&nbsp;</td>\n",
    "<td width=\"4\" height=\"4\" colspan=\"1\" bgcolor=\"#FFFFFF\">&nbsp;</td>\n",
    "</tr>\n",
    "<tr>\n",
    "<td width=\"4\" height=\"4\" colspan=\"2\" bgcolor=\"#FFFFFF\">&nbsp;</td>\n",
    "<td width=\"4\" height=\"4\" colspan=\"1\" bgcolor=\"#003055\">&nbsp;</td>\n",
    "<td width=\"4\" height=\"4\" colspan=\"10\" bgcolor=\"#002F55\">&nbsp;</td>\n",
    "<td width=\"4\" height=\"4\" colspan=\"2\" bgcolor=\"#FFFFFF\">&nbsp;</td>\n",
    "</tr>\n",
    "<tr>\n",
    "<td width=\"4\" height=\"4\" colspan=\"4\" bgcolor=\"#FFFFFF\">&nbsp;</td>\n",
    "<td width=\"4\" height=\"4\" colspan=\"7\" bgcolor=\"#002F55\">&nbsp;</td>\n",
    "<td width=\"4\" height=\"4\" colspan=\"4\" bgcolor=\"#FFFFFF\">&nbsp;</td>\n",
    "</tr>\n",
    "<tr>\n",
    "<td width=\"4\" height=\"4\" colspan=\"15\" bgcolor=\"#FFFFFF\">&nbsp;</td>\n",
    "</tr>\n",
    "</table>\n",
    "\n",
    "# <center>Week 3: Gradient Descent exercise</center>\n",
    "<p style=\"color: royalblue; float:right; position: relative; top:0; right:0\">Dr. J. Guadalupe</p>"
   ]
  },
  {
   "cell_type": "markdown",
   "metadata": {},
   "source": [
    "## Importing libraries"
   ]
  },
  {
   "cell_type": "code",
   "execution_count": 1,
   "metadata": {},
   "outputs": [],
   "source": [
    "import matplotlib.pyplot as plt\n",
    "import numpy as np\n",
    "import pandas as pd\n",
    "import random\n",
    "\n",
    "%matplotlib inline\n",
    "plt.rcParams['figure.figsize'] = (12, 8)\n",
    "plt.style.use('fivethirtyeight')"
   ]
  },
  {
   "cell_type": "markdown",
   "metadata": {},
   "source": [
    "## Load the data\n",
    "\n",
    "1. Load `Salary.csv`"
   ]
  },
  {
   "cell_type": "code",
   "execution_count": 3,
   "metadata": {},
   "outputs": [
    {
     "data": {
      "text/html": [
       "<div>\n",
       "<style scoped>\n",
       "    .dataframe tbody tr th:only-of-type {\n",
       "        vertical-align: middle;\n",
       "    }\n",
       "\n",
       "    .dataframe tbody tr th {\n",
       "        vertical-align: top;\n",
       "    }\n",
       "\n",
       "    .dataframe thead th {\n",
       "        text-align: right;\n",
       "    }\n",
       "</style>\n",
       "<table border=\"1\" class=\"dataframe\">\n",
       "  <thead>\n",
       "    <tr style=\"text-align: right;\">\n",
       "      <th></th>\n",
       "      <th>YearsExperience</th>\n",
       "      <th>Salary</th>\n",
       "    </tr>\n",
       "  </thead>\n",
       "  <tbody>\n",
       "    <tr>\n",
       "      <th>0</th>\n",
       "      <td>1.1</td>\n",
       "      <td>39343</td>\n",
       "    </tr>\n",
       "    <tr>\n",
       "      <th>1</th>\n",
       "      <td>1.3</td>\n",
       "      <td>46205</td>\n",
       "    </tr>\n",
       "    <tr>\n",
       "      <th>2</th>\n",
       "      <td>1.5</td>\n",
       "      <td>37731</td>\n",
       "    </tr>\n",
       "    <tr>\n",
       "      <th>3</th>\n",
       "      <td>2.0</td>\n",
       "      <td>43525</td>\n",
       "    </tr>\n",
       "    <tr>\n",
       "      <th>4</th>\n",
       "      <td>2.2</td>\n",
       "      <td>39891</td>\n",
       "    </tr>\n",
       "  </tbody>\n",
       "</table>\n",
       "</div>"
      ],
      "text/plain": [
       "   YearsExperience  Salary\n",
       "0              1.1   39343\n",
       "1              1.3   46205\n",
       "2              1.5   37731\n",
       "3              2.0   43525\n",
       "4              2.2   39891"
      ]
     },
     "execution_count": 3,
     "metadata": {},
     "output_type": "execute_result"
    }
   ],
   "source": [
    "data = pd.read_csv('Salary.csv')\n",
    "data.head()"
   ]
  },
  {
   "cell_type": "markdown",
   "metadata": {},
   "source": [
    "### Get `X` and `y`\n",
    "\n",
    "1. Get X and add the bias\n",
    "2. get y\n",
    "\n",
    "Recall `X` should be always a matrix, never an 1D array"
   ]
  },
  {
   "cell_type": "code",
   "execution_count": 19,
   "metadata": {},
   "outputs": [
    {
     "ename": "TypeError",
     "evalue": "unsupported operand type(s) for +: 'NoneType' and 'int'",
     "output_type": "error",
     "traceback": [
      "\u001b[0;31m---------------------------------------------------------------------------\u001b[0m",
      "\u001b[0;31mTypeError\u001b[0m                                 Traceback (most recent call last)",
      "\u001b[0;32m<ipython-input-19-91a349874642>\u001b[0m in \u001b[0;36m<module>\u001b[0;34m\u001b[0m\n\u001b[1;32m      1\u001b[0m \u001b[0;31m# M = ?\u001b[0m\u001b[0;34m\u001b[0m\u001b[0;34m\u001b[0m\u001b[0;34m\u001b[0m\u001b[0m\n\u001b[1;32m      2\u001b[0m \u001b[0mX\u001b[0m  \u001b[0;34m=\u001b[0m \u001b[0mnp\u001b[0m\u001b[0;34m.\u001b[0m\u001b[0marray\u001b[0m\u001b[0;34m(\u001b[0m\u001b[0mdata\u001b[0m\u001b[0;34m[\u001b[0m\u001b[0;34m'YearsExperience'\u001b[0m\u001b[0;34m]\u001b[0m\u001b[0;34m)\u001b[0m\u001b[0;34m.\u001b[0m\u001b[0mresize\u001b[0m\u001b[0;34m(\u001b[0m\u001b[0;34m(\u001b[0m\u001b[0;36m1\u001b[0m\u001b[0;34m,\u001b[0m\u001b[0;36m1\u001b[0m\u001b[0;34m)\u001b[0m\u001b[0;34m)\u001b[0m\u001b[0;34m\u001b[0m\u001b[0;34m\u001b[0m\u001b[0m\n\u001b[0;32m----> 3\u001b[0;31m \u001b[0mX\u001b[0m \u001b[0;34m=\u001b[0m \u001b[0mX\u001b[0m \u001b[0;34m+\u001b[0m \u001b[0;36m1\u001b[0m \u001b[0;31m# We add the bias\u001b[0m\u001b[0;34m\u001b[0m\u001b[0;34m\u001b[0m\u001b[0m\n\u001b[0m\u001b[1;32m      4\u001b[0m \u001b[0my\u001b[0m \u001b[0;34m=\u001b[0m \u001b[0mnp\u001b[0m\u001b[0;34m.\u001b[0m\u001b[0marray\u001b[0m\u001b[0;34m(\u001b[0m\u001b[0mdata\u001b[0m\u001b[0;34m[\u001b[0m\u001b[0;34m'Salary'\u001b[0m\u001b[0;34m]\u001b[0m\u001b[0;34m)\u001b[0m  \u001b[0;31m# y can be a vector\u001b[0m\u001b[0;34m\u001b[0m\u001b[0;34m\u001b[0m\u001b[0m\n\u001b[1;32m      5\u001b[0m \u001b[0mprint\u001b[0m\u001b[0;34m(\u001b[0m\u001b[0;34mf'X shape: {X.shape}'\u001b[0m\u001b[0;34m)\u001b[0m\u001b[0;34m\u001b[0m\u001b[0;34m\u001b[0m\u001b[0m\n",
      "\u001b[0;31mTypeError\u001b[0m: unsupported operand type(s) for +: 'NoneType' and 'int'"
     ]
    }
   ],
   "source": [
    "# M = ?\n",
    "X  = np.array(data['YearsExperience']).resize((1,1))\n",
    "X = X + 1 # We add the bias\n",
    "y = np.array(data['Salary'])  # y can be a vector\n",
    "print(f'X shape: {X.shape}')\n",
    "print(f'y shape: {y.shape}')"
   ]
  },
  {
   "cell_type": "markdown",
   "metadata": {},
   "source": [
    "## Gradient descent at work\n",
    "\n",
    "The necessary steps to work out a gradient-descent-based solution are easily described, given our cost function for a set of coefficients (the vector w):\n",
    "\n",
    "$$J(w) = RSS(w) = \\sum_{i=1}^M {(y-Xw^T)^2}$$\n",
    "\n",
    "    * We first start by choosing a random initialization for w, by choosing some random numbers (taken from a standardized normal curve, for instance, having a zero mean and unit variance).\n",
    "    * Start reiterating and update the w values.\n",
    "    * We can update our coefficients, one by one, by subtracting from each of them a portion alpha (α, the learning rate) of the cost function partial derivative."
   ]
  },
  {
   "cell_type": "markdown",
   "metadata": {},
   "source": [
    "### 1. Implement the hypothesis $\\hat{y} = Xw^T$"
   ]
  },
  {
   "cell_type": "code",
   "execution_count": 4,
   "metadata": {},
   "outputs": [],
   "source": [
    "def hypothesis(X, w):\n",
    "    return ?"
   ]
  },
  {
   "cell_type": "markdown",
   "metadata": {},
   "source": [
    "### 2. Implement the loss function $y - \\hat{y}$ "
   ]
  },
  {
   "cell_type": "code",
   "execution_count": 5,
   "metadata": {},
   "outputs": [],
   "source": [
    "def loss(X, w, y):\n",
    "    return ?"
   ]
  },
  {
   "cell_type": "markdown",
   "metadata": {},
   "source": [
    "### 3. Now, implement the loss squared $(y - \\hat{y})^2$ "
   ]
  },
  {
   "cell_type": "code",
   "execution_count": 6,
   "metadata": {},
   "outputs": [],
   "source": [
    "def squared_loss(X, w, y):\n",
    "    return ?"
   ]
  },
  {
   "cell_type": "markdown",
   "metadata": {},
   "source": [
    "### 4. Implement the cost function\n",
    "\n",
    "$$RSS(w) = \\sum_{i=1}^M {(y-\\hat{y})^2}$$"
   ]
  },
  {
   "cell_type": "code",
   "execution_count": 7,
   "metadata": {},
   "outputs": [],
   "source": [
    "def cost(X, w, y):\n",
    "    return ?"
   ]
  },
  {
   "cell_type": "markdown",
   "metadata": {},
   "source": [
    "Test the function"
   ]
  },
  {
   "cell_type": "code",
   "execution_count": 8,
   "metadata": {},
   "outputs": [
    {
     "data": {
      "text/plain": [
       "9861885722632.3"
      ]
     },
     "execution_count": 8,
     "metadata": {},
     "output_type": "execute_result"
    }
   ],
   "source": [
    "w = np.ones((1, X.shape[1]))\n",
    "cost(X, w, y)"
   ]
  },
  {
   "cell_type": "markdown",
   "metadata": {},
   "source": [
    "### 5. Now implement the gradient\n",
    "\n",
    "$$\\frac{\\partial J(w)}{\\partial w_j} = -2\\sum_{i}^{M}{ x_{i, j}(y_i - \\hat{y_i})}$$\n",
    "\n",
    "- Where $w_j$ is the weight at index $j$\n",
    "- and $x_{i, j}$ is the value at $i_{th}$ row, column $j$ in $X$"
   ]
  },
  {
   "cell_type": "code",
   "execution_count": null,
   "metadata": {},
   "outputs": [],
   "source": [
    "def gradient(X, w, y):\n",
    "    grads = ? # create a numpy array of shape (2,)\n",
    "    my_loss = ? # call loss\n",
    "    grads[0] = ? # w0 gradient, using my_loss\n",
    "    grads[1] = ? # w1 gradient\n",
    "    return grads"
   ]
  },
  {
   "cell_type": "code",
   "execution_count": 10,
   "metadata": {},
   "outputs": [
    {
     "data": {
      "text/plain": [
       "array([-2.05648814e+08, -1.56947698e+09])"
      ]
     },
     "execution_count": 10,
     "metadata": {},
     "output_type": "execute_result"
    }
   ],
   "source": [
    "gradient(X, w, y)"
   ]
  },
  {
   "cell_type": "markdown",
   "metadata": {},
   "source": [
    "### 6. Implement update function\n",
    "\n",
    "$$w_j = w_j - \\alpha * \\frac{\\partial J(w)}{\\partial w_j} $$"
   ]
  },
  {
   "cell_type": "code",
   "execution_count": 11,
   "metadata": {},
   "outputs": [],
   "source": [
    "def update(X, w, y, alpha=0.001):\n",
    "    # Update w's and return the new values"
   ]
  },
  {
   "cell_type": "code",
   "execution_count": 12,
   "metadata": {},
   "outputs": [
    {
     "data": {
      "text/plain": [
       "array([[ 205649.814  , 1569477.98372]])"
      ]
     },
     "execution_count": 12,
     "metadata": {},
     "output_type": "execute_result"
    }
   ],
   "source": [
    "update(X, w, y)"
   ]
  },
  {
   "cell_type": "markdown",
   "metadata": {},
   "source": [
    "### 7. Implement optimize function\n",
    "\n",
    "You should now use previous `update` and `cost` functions:\n",
    "\n",
    "1. Set w to [.00001, .000001]\n",
    "2. Store the cost for each iteration in `path` dict."
   ]
  },
  {
   "cell_type": "code",
   "execution_count": 13,
   "metadata": {},
   "outputs": [],
   "source": [
    "def optimize(X, y, alpha=0.00001, iterations = 1000):\n",
    "    w = ?\n",
    "    path = {}\n",
    "    for k in range(iterations):\n",
    "        # YOUR MAGIC HERE!\n",
    "    return w, path"
   ]
  },
  {
   "cell_type": "markdown",
   "metadata": {},
   "source": [
    "Test the code"
   ]
  },
  {
   "cell_type": "code",
   "execution_count": 14,
   "metadata": {},
   "outputs": [
    {
     "name": "stdout",
     "output_type": "stream",
     "text": [
      "weights [ 505.13053351 3801.24316523]\n",
      "Cost at first iteration 261736116621.72073\n",
      "Cost at last iteration 135791459415.63722\n"
     ]
    }
   ],
   "source": [
    "w, c = optimize(X, y, iterations = 10)\n",
    "print('weights', w)\n",
    "print('Cost at first iteration', c[0])\n",
    "print('Cost at last iteration', c[9])"
   ]
  },
  {
   "cell_type": "markdown",
   "metadata": {},
   "source": [
    "### 8. Find the optimal $w$ values\n",
    "\n",
    "1. First, call the function with $\\alpha=0.000005$, iterations = 50,000\n",
    "2. Then, play with iterations, in this dataset with different alphas."
   ]
  },
  {
   "cell_type": "code",
   "execution_count": 15,
   "metadata": {},
   "outputs": [
    {
     "name": "stdout",
     "output_type": "stream",
     "text": [
      "These are our final coefficients: [28439.49163166  8782.62661153]\n"
     ]
    }
   ],
   "source": [
    "alpha = ?\n",
    "w, path = ?\n",
    "print(\"These are our final coefficients: %s\" % w)"
   ]
  },
  {
   "cell_type": "markdown",
   "metadata": {},
   "source": [
    "### Let's plot the path of cost\n",
    "\n",
    "Fist iterations reduce the cost quickly, that is why we are showing the cost starting from step 2000."
   ]
  },
  {
   "cell_type": "code",
   "execution_count": 16,
   "metadata": {},
   "outputs": [
    {
     "data": {
      "image/png": "[encoded data removed]",
      "text/plain": [
       "<Figure size 864x576 with 1 Axes>"
      ]
     },
     "metadata": {},
     "output_type": "display_data"
    }
   ],
   "source": [
    "plt.title('Epochs Vs Cost')\n",
    "plt.xlabel('Iterations')\n",
    "plt.ylabel('Cost')\n",
    "plt.plot(list(path.keys())[2000:], list(path.values())[2000:], '-');"
   ]
  },
  {
   "cell_type": "markdown",
   "metadata": {},
   "source": [
    "## 9. Now, plot the predictions\n",
    "\n",
    "- Use your `hypothesis` function to predict $\\hat{y}$"
   ]
  },
  {
   "cell_type": "code",
   "execution_count": 17,
   "metadata": {},
   "outputs": [
    {
     "data": {
      "image/png": "[encoded data removed]",
      "text/plain": [
       "<Figure size 864x576 with 1 Axes>"
      ]
     },
     "metadata": {},
     "output_type": "display_data"
    }
   ],
   "source": [
    "years = ?\n",
    "y_hat = ?\n",
    "plt.title('Salary vs Years of Exp')\n",
    "plt.xlabel('Years of Exp')\n",
    "plt.ylabel('Salary')\n",
    "plt.plot(years, y, 'gs', markersize=8);\n",
    "plt.plot(years, y_hat, 'r--', linewidth=3, label='Predictions')\n",
    "plt.legend();"
   ]
  },
  {
   "cell_type": "markdown",
   "metadata": {},
   "source": [
    "## 10. Now, be chirpy! 😁"
   ]
  }
 ],
 "metadata": {
  "kernelspec": {
   "display_name": "Python 3",
   "language": "python",
   "name": "python3"
  },
  "language_info": {
   "codemirror_mode": {
    "name": "ipython",
    "version": 3
   },
   "file_extension": ".py",
   "mimetype": "text/x-python",
   "name": "python",
   "nbconvert_exporter": "python",
   "pygments_lexer": "ipython3",
   "version": "3.8.5"
  }
 },
 "nbformat": 4,
 "nbformat_minor": 2
}
